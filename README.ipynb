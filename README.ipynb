{
 "cells": [
  {
   "cell_type": "code",
   "execution_count": 4,
   "metadata": {},
   "outputs": [
    {
     "name": "stdout",
     "output_type": "stream",
     "text": [
      "before function call\n",
      "printing  1 2 3\n",
      "after function call\n"
     ]
    },
    {
     "data": {
      "text/plain": [
       "(3, 5)"
      ]
     },
     "execution_count": 4,
     "metadata": {},
     "output_type": "execute_result"
    }
   ],
   "source": [
    "def wrapper(func,*args,**kwargs):\n",
    "    def inner(*args, **kwargs):\n",
    "        print(\"before function call\")\n",
    "        return_values = func(*args,**kwargs)\n",
    "        print(\"after function call\")\n",
    "        return return_values\n",
    "    return inner\n",
    "\n",
    "@wrapper\n",
    "def myfun(a,b,c):\n",
    "    print(\"printing \",a,b,c)\n",
    "    return a+b,b+c\n",
    "\n",
    "myfun(a=1,b=2,c=3)"
   ]
  },
  {
   "cell_type": "code",
   "execution_count": 8,
   "metadata": {},
   "outputs": [
    {
     "name": "stdout",
     "output_type": "stream",
     "text": [
      "15\n",
      "25\n"
     ]
    }
   ],
   "source": [
    "def outer_function(x):\n",
    "    def inner_function(y):\n",
    "        return x + y\n",
    "    return inner_function\n",
    "\n",
    "closure_example = outer_function(10)\n",
    "closure_result = closure_example(5)\n",
    "print(closure_result)\n",
    "closure_result = closure_example(closure_result)\n",
    "print(closure_result)"
   ]
  },
  {
   "cell_type": "code",
   "execution_count": 9,
   "metadata": {},
   "outputs": [
    {
     "name": "stdout",
     "output_type": "stream",
     "text": [
      "0\n",
      "1\n",
      "2\n",
      "3\n",
      "4\n"
     ]
    }
   ],
   "source": [
    "import concurrent.futures\n",
    "\n",
    "# Concurrency with Threads\n",
    "def print_numbers():\n",
    "    for i in range(5):\n",
    "        print(i)\n",
    "\n",
    "# Using ThreadPoolExecutor for concurrency\n",
    "with concurrent.futures.ThreadPoolExecutor() as executor:\n",
    "    executor.submit(print_numbers)\n"
   ]
  },
  {
   "cell_type": "code",
   "execution_count": 11,
   "metadata": {},
   "outputs": [],
   "source": [
    "# Parallelism with Processes\n",
    "with concurrent.futures.ProcessPoolExecutor() as executor:\n",
    "    executor.submit(print_numbers)"
   ]
  },
  {
   "cell_type": "code",
   "execution_count": 12,
   "metadata": {},
   "outputs": [
    {
     "name": "stdout",
     "output_type": "stream",
     "text": [
      "0\n",
      "1\n",
      "2\n",
      "3\n",
      "4\n"
     ]
    }
   ],
   "source": [
    "import concurrent.futures\n",
    "\n",
    "# Concurrency with Threads\n",
    "def print_numbers():\n",
    "    for i in range(5):\n",
    "        print(i)\n",
    "\n",
    "with concurrent.futures.ThreadPoolExecutor() as executor:\n",
    "    executor.submit(print_numbers)\n",
    "\n",
    "# Parallelism with Processes\n",
    "with concurrent.futures.ProcessPoolExecutor() as executor:\n",
    "    executor.submit(print_numbers)"
   ]
  },
  {
   "cell_type": "code",
   "execution_count": 16,
   "metadata": {},
   "outputs": [
    {
     "name": "stdout",
     "output_type": "stream",
     "text": [
      " * Serving Flask app '__main__'\n",
      " * Debug mode: off\n"
     ]
    },
    {
     "name": "stderr",
     "output_type": "stream",
     "text": [
      "WARNING: This is a development server. Do not use it in a production deployment. Use a production WSGI server instead.\n",
      " * Running on http://127.0.0.1:5000\n",
      "Press CTRL+C to quit\n"
     ]
    }
   ],
   "source": [
    "from flask import Flask, jsonify\n",
    "\n",
    "app = Flask(__name__)\n",
    "\n",
    "@app.route(\"/\")\n",
    "def home():\n",
    "    return jsonify({\"message\": \"Welcome\"})\n",
    "\n",
    "if __name__ == '__main__':\n",
    "    app.run()"
   ]
  }
 ],
 "metadata": {
  "kernelspec": {
   "display_name": "Python 3",
   "language": "python",
   "name": "python3"
  },
  "language_info": {
   "codemirror_mode": {
    "name": "ipython",
    "version": 3
   },
   "file_extension": ".py",
   "mimetype": "text/x-python",
   "name": "python",
   "nbconvert_exporter": "python",
   "pygments_lexer": "ipython3",
   "version": "3.10.7"
  }
 },
 "nbformat": 4,
 "nbformat_minor": 2
}
